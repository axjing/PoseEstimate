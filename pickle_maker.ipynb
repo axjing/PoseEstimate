{
    "nbformat": 4,
    "nbformat_minor": 0,
    "metadata": {
        "colab": {
            "name": "pickle_maker.ipynb",
            "provenance": [],
            "collapsed_sections": [],
            "toc_visible": true,
            "machine_shape": "hm"
        },
        "kernelspec": {
            "display_name": "Python 3",
            "name": "python3"
        },
        "accelerator": "GPU"
    },
    "cells": [
        {
            "cell_type": "code",
            "metadata": {
                "id": "RUQcY5kdrWiO",
                "colab": {
                    "base_uri": "https://localhost:8080/"
                },
                "executionInfo": {
                    "status": "ok",
                    "timestamp": 1616484284681,
                    "user_tz": 420,
                    "elapsed": 22800,
                    "user": {
                        "displayName": "Corey Koelewyn",
                        "photoUrl": "",
                        "userId": "10684872829383928279"
                    }
                },
                "outputId": "e20ae0c6-0626-476e-8d0f-1127d14d7453"
            },
            "source": [
                "# Mount Google Drive\n",
                "from google.colab import drive\n",
                "drive.mount('/content/gdrive')"
            ],
            "execution_count": null,
            "outputs": []
        },
        {
            "cell_type": "code",
            "metadata": {
                "id": "yWlpeOl829ji",
                "colab": {
                    "base_uri": "https://localhost:8080/"
                },
                "executionInfo": {
                    "status": "ok",
                    "timestamp": 1616527132443,
                    "user_tz": 420,
                    "elapsed": 68310,
                    "user": {
                        "displayName": "Corey Koelewyn",
                        "photoUrl": "",
                        "userId": "10684872829383928279"
                    }
                },
                "outputId": "6385e676-3dd0-4ce2-9804-a49827901f48"
            },
            "source": [
                "# Download dataset to pre-specified folder on local VM instance\n",
                "# Change dir to project dir\n",
                "%cd \"/content/gdrive/MyDrive/Colab Data/COCO-Human-Pose\"\n",
                "\n",
                "import time\n",
                "from datetime import datetime, timedelta\n",
                "\n",
                "start = time.time()\n",
                "\n",
                "!bash \"/content/gdrive/MyDrive/Colab Data/COCO-Human-Pose/scripts/coco_dl.sh\" ./datasets no_image\n",
                "\n",
                "download_time = time.time() - start\n",
                "print(\"Total download time: {}\".format(str(timedelta(seconds=download_time))))"
            ],
            "execution_count": null,
            "outputs": []
        },
        {
            "cell_type": "code",
            "metadata": {
                "id": "UeLJoy2iz5sE",
                "colab": {
                    "base_uri": "https://localhost:8080/"
                },
                "executionInfo": {
                    "status": "ok",
                    "timestamp": 1616530222107,
                    "user_tz": 420,
                    "elapsed": 691,
                    "user": {
                        "displayName": "Corey Koelewyn",
                        "photoUrl": "",
                        "userId": "10684872829383928279"
                    }
                },
                "outputId": "6eabcec6-4aeb-4a95-9451-c9dc7d3d0314"
            },
            "source": [
                "# Toggle COLAB_TRAINING variable in constants file\n",
                "# https://askubuntu.com/questions/20414/find-and-replace-text-within-a-file-using-commands\n",
                "!sed -i.bak 's/COLAB_TRAINING = False/COLAB_TRAINING = True/g' constants.py \n",
                "\n",
                "# Remove backup file\n",
                "!rm constants.py.bak\n",
                "\n",
                "# Upgrade required imgaug package because of a bug on 0.2.9\n",
                "!pip install --upgrade imgaug==0.4.0"
            ],
            "execution_count": null,
            "outputs": []
        },
        {
            "cell_type": "code",
            "metadata": {
                "colab": {
                    "base_uri": "https://localhost:8080/"
                },
                "id": "au2ZugKpMRHL",
                "executionInfo": {
                    "status": "ok",
                    "timestamp": 1616530333453,
                    "user_tz": 420,
                    "elapsed": 17145,
                    "user": {
                        "displayName": "Corey Koelewyn",
                        "photoUrl": "",
                        "userId": "10684872829383928279"
                    }
                },
                "outputId": "c7d8a9f3-0cc7-4d4f-f567-52e813b809ba"
            },
            "source": [
                "from df_pickler import *\n",
                "import os\n",
                "import constants\n",
                "if not os.path.exists(DEFAULT_PICKLE_PATH):\n",
                "  os.makedirs(DEFAULT_PICKLE_PATH)\n",
                "\n",
                "\n",
                "filter_crowds = True\n",
                "remove_empty = True\n",
                "scale_factor = .8\n",
                "train_val_split = .8\n",
                "# bound_box_lower_cutoff = 900 # uses default from constants.py if no value given\n",
                "\n",
                "make_pickle(filter_crowds, remove_empty, scale_factor, train_val_split)\n"
            ],
            "execution_count": null,
            "outputs": []
        }
    ]
}