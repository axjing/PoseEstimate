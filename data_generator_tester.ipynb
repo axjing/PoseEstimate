{
 "metadata": {
  "language_info": {
   "codemirror_mode": {
    "name": "ipython",
    "version": 3
   },
   "file_extension": ".py",
   "mimetype": "text/x-python",
   "name": "python",
   "nbconvert_exporter": "python",
   "pygments_lexer": "ipython3",
   "version": "3.8.2-final"
  },
  "orig_nbformat": 2,
  "kernelspec": {
   "name": "python3",
   "display_name": "Python 3.8.2 64-bit",
   "metadata": {
    "interpreter": {
     "hash": "c0cfba6cd26d1ab26e4c3e83d23793ceb7168314b52ecf65aba49005d127e69c"
    }
   }
  }
 },
 "nbformat": 4,
 "nbformat_minor": 2,
 "cells": [
  {
   "cell_type": "code",
   "execution_count": null,
   "metadata": {},
   "outputs": [],
   "source": [
    "from hourglass import HourglassNet\n",
    "from constants import *\n",
    "\n",
    "h = HourglassNet(NUM_COCO_KEYPOINTS,DEFAULT_NUM_HG,INPUT_CHANNELS,INPUT_DIM,OUTPUT_DIM)\n",
    "train_df, val_df = h.load_and_filter_annotations(DEFAULT_TRAIN_ANNOT_PATH,DEFAULT_VAL_ANNOT_PATH)"
   ]
  },
  {
   "cell_type": "code",
   "execution_count": null,
   "metadata": {},
   "outputs": [],
   "source": [
    "# Filename is a globally unique identifier among all train/val/test splits\n",
    "import skimage.io as io\n",
    "import matplotlib.pyplot as plt\n",
    "from pycocotools.coco import COCO\n",
    "import pylab\n",
    "import coco_df\n",
    "from matplotlib.patches import Rectangle\n",
    "pylab.rcParams['figure.figsize'] = (30.0, 30.0)\n",
    "\n",
    "train_annot_path = DEFAULT_TRAIN_ANNOT_PATH\n",
    "val_annot_path = DEFAULT_VAL_ANNOT_PATH\n",
    "train_coco = COCO(train_annot_path) # load annotations for training set\n",
    "val_coco = COCO(val_annot_path) # load annotations for validation set\n",
    "\n",
    "df = coco_df.get_df(train_annot_path,val_annot_path)\n",
    "\n",
    "def display_img(annId):\n",
    "  # Determine if img exists and if it is in train or val set\n",
    "  img_df_rows = df.loc[df['ann_id'] == annId]\n",
    "  if len(img_df_rows) == 0:\n",
    "      print(f\"Image with ann id {annId} does not exist.\")\n",
    "      return\n",
    "  \n",
    "  coco = train_coco if img_df_rows['source'].iloc[0] == 0 else val_coco\n",
    "\n",
    "  # Get img id from file name\n",
    "  imgId = img_df_rows['src_set_image_id'].iloc[0]\n",
    "  img = coco.imgs[imgId]\n",
    "  I = io.imread(img['coco_url']) # load image from URL (no need to store image locally)\n",
    "\n",
    "  # load and display keypoints annotations\n",
    "  plt.subplot(1,2,1)\n",
    "  plt.imshow(I)\n",
    "  plt.axis('off')\n",
    "\n",
    "  plt.subplot(1,2,2)\n",
    "  plt.imshow(I)\n",
    "  annIds = coco.getAnnIds(imgIds=[imgId])\n",
    "  anns = coco.loadAnns(annIds)\n",
    "  bbox= list(img_df_rows['bbox'])[0]\n",
    "  plt.gca().add_patch(Rectangle((bbox[0],bbox[1]),bbox[2],bbox[3],\n",
    "                  edgecolor='red',\n",
    "                  facecolor='none',\n",
    "                  lw=4))\n",
    "  coco.showAnns(anns)\n",
    "  plt.show()"
   ]
  },
  {
   "cell_type": "code",
   "execution_count": null,
   "metadata": {},
   "outputs": [],
   "source": [
    "import data_generator\n",
    "import imp\n",
    "imp.reload(data_generator)\n",
    "from data_generator import DataGenerator\n",
    "\n",
    "generator = DataGenerator(\n",
    "    df=val_df,\n",
    "    base_dir=DEFAULT_TRAIN_IMG_PATH,\n",
    "    input_dim=INPUT_DIM,\n",
    "    output_dim=OUTPUT_DIM,\n",
    "    num_hg_blocks=DEFAULT_NUM_HG,\n",
    "    shuffle=False,  \n",
    "    batch_size=1,\n",
    "    online_fetch=False)\n",
    "\n",
    "# Test the generator\n",
    "import time\n",
    "import matplotlib.pyplot as plt\n",
    "import pylab\n",
    "pylab.rcParams['figure.figsize'] = (10.0, 10.0)\n",
    "\n",
    "from submodules.HeatMap import HeatMap # https://github.com/LinShanify/HeatMap\n",
    "\n",
    "start = time.time()\n",
    "X_batch, y_stacked = generator[168]\n",
    "print(\"Retrieving batch took: \",time.time() - start, \" s\")\n",
    "y_batch = y_stacked[0] # take first hourglass section\n",
    "print(\"Batch shape is: \", X_batch.shape, y_batch.shape)\n",
    "X, y = X_batch[0], y_batch[0] # take first example of batch\n",
    "print(\"Example shape is: \", X.shape,y.shape)\n",
    "\n",
    "heatmap = y[:,:,1]\n",
    "print(X.max(), X.min(), X.mean())\n",
    "print(y.max(), y.min(), y.mean())\n",
    "hm = HeatMap(X,heatmap)\n",
    "hm.plot(transparency=0.5,show_axis=True,show_colorbar=True)"
   ]
  },
  {
   "cell_type": "code",
   "execution_count": null,
   "metadata": {},
   "outputs": [],
   "source": []
  }
 ]
}