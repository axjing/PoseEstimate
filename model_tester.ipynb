{
 "metadata": {
  "language_info": {
   "codemirror_mode": {
    "name": "ipython",
    "version": 3
   },
   "file_extension": ".py",
   "mimetype": "text/x-python",
   "name": "python",
   "nbconvert_exporter": "python",
   "pygments_lexer": "ipython3",
   "version": "3.8.2-final"
  },
  "orig_nbformat": 2,
  "kernelspec": {
   "name": "python3",
   "display_name": "Python 3.8.2 64-bit",
   "metadata": {
    "interpreter": {
     "hash": "c0cfba6cd26d1ab26e4c3e83d23793ceb7168314b52ecf65aba49005d127e69c"
    }
   }
  }
 },
 "nbformat": 4,
 "nbformat_minor": 2,
 "cells": [
  {
   "cell_type": "code",
   "execution_count": 10,
   "metadata": {},
   "outputs": [
    {
     "output_type": "stream",
     "name": "stdout",
     "text": [
      "Found model json:                  models/2021-04-02-02h-21m_batchsize_16_hg_4_loss_keras_mse_aug_medium_sigma4_learningrate_5.0e-03_opt_adam_gt-4kp_activ_linear/hpe_hourglass_stacks_04_batchsize_016.json\n",
      "\n",
      "Found model weights for epoch  24: models/2021-04-02-02h-21m_batchsize_16_hg_4_loss_keras_mse_aug_medium_sigma4_learningrate_5.0e-03_opt_adam_gt-4kp_activ_linear/hpe_epoch24_val_loss_0.0018_train_loss_0.0014.hdf5\n",
      "\n",
      "Loaded model with 4 hourglass stacks!\n",
      "loading annotations into memory...\n",
      "Done (t=8.96s)\n",
      "creating index...\n",
      "index created!\n",
      "loading annotations into memory...\n",
      "Done (t=0.29s)\n",
      "creating index...\n",
      "index created!\n",
      "Unfiltered df contains 273469 anns\n",
      "Train/Val dfs contains 134214/5647 anns\n",
      "Initialized Evaluation Wrapper!\n",
      "Percentage of Correct Key Points (PCK)\n",
      "\n",
      "Nose:            0.90\n",
      "Left Eye:        0.90\n",
      "Right Eye:       0.80\n",
      "Left Ear:        0.80\n",
      "Right Ear:       0.80\n",
      "Left Shoulder:   0.70\n",
      "Right Shoulder:  0.70\n",
      "Left Elbow:      0.70\n",
      "Right Elbow:     0.80\n",
      "Left Wrist:      0.80\n",
      "Right Wrist:     0.80\n",
      "Left Hip:        0.60\n",
      "Right Hip:       0.40\n",
      "Left Knee:       0.80\n",
      "Right Knee:      0.80\n",
      "Left Ankle:      0.60\n",
      "Right Ankle:     0.70\n"
     ]
    }
   ],
   "source": [
    "import imp\n",
    "import evaluation_wrapper\n",
    "imp.reload(evaluation_wrapper)\n",
    "import evaluation\n",
    "imp.reload(evaluation)\n",
    "\n",
    "eval = evaluation_wrapper.EvaluationWrapper('2021-04-02-02h-21m_batchsize_16_hg_4_loss_keras_mse_aug_medium_sigma4_learningrate_5.0e-03_opt_adam_gt-4kp_activ_linear')\n",
    "\n",
    "eval.calculatePCK(1)"
   ]
  },
  {
   "cell_type": "code",
   "execution_count": null,
   "metadata": {},
   "outputs": [],
   "source": []
  }
 ]
}