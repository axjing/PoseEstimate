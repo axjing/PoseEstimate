{
  "nbformat": 4,
  "nbformat_minor": 0,
  "metadata": {
    "colab": {
      "name": "input_pipeline_demo.ipynb",
      "provenance": [],
      "collapsed_sections": []
    },
    "kernelspec": {
      "display_name": "Python 3",
      "name": "python3"
    },
    "accelerator": "GPU"
  },
  "cells": [
    {
      "cell_type": "code",
      "metadata": {
        "id": "RUQcY5kdrWiO",
        "colab": {
          "base_uri": "https://localhost:8080/"
        },
        "executionInfo": {
          "status": "ok",
          "timestamp": 1615509232436,
          "user_tz": 480,
          "elapsed": 779,
          "user": {
            "displayName": "Robert Lee",
            "photoUrl": "https://lh3.googleusercontent.com/a-/AOh14Gg5Bo21GMlIXvvTRzHk7PUzZL8VXUJiObN8raRq=s64",
            "userId": "05735836358878398466"
          }
        },
        "outputId": "3e4f731e-65fd-4ea5-ec7c-511da428b65a"
      },
      "source": [
        "# Mount Google Drive\n",
        "from google.colab import drive\n",
        "drive.mount('/content/gdrive')\n",
        "\n",
        "# Print assigned GPU\n",
        "gpu_info = !nvidia-smi\n",
        "gpu_info = '\\n'.join(gpu_info)\n",
        "if gpu_info.find('failed') >= 0:\n",
        "  print('Select the Runtime > \"Change runtime type\" menu to enable a GPU accelerator, ')\n",
        "  print('and then re-execute this cell.')\n",
        "else:\n",
        "  print(gpu_info)\n",
        "\n",
        "# Set TensorFlow version to 1.x\n",
        "%tensorflow_version 1.x\n",
        "\n",
        "# Change dir to project dir\n",
        "%cd /content/gdrive/MyDrive/Colab\\ Data/COCO-Human-Pose"
      ],
      "execution_count": null,
      "outputs": []
    },
    {
      "cell_type": "code",
      "metadata": {
        "id": "yWlpeOl829ji"
      },
      "source": [
        "# Install colab_ssh on google colab\n",
        "#!pip install colab_ssh --upgrade\n",
        "\n",
        "#from colab_ssh import launch_ssh_cloudflared\n",
        "#launch_ssh_cloudflared(password=\"\")\n"
      ],
      "execution_count": null,
      "outputs": []
    },
    {
      "cell_type": "code",
      "metadata": {
        "id": "Te9ZCKSQ__Zd",
        "colab": {
          "base_uri": "https://localhost:8080/"
        },
        "executionInfo": {
          "status": "ok",
          "timestamp": 1615507963337,
          "user_tz": 480,
          "elapsed": 123292,
          "user": {
            "displayName": "Robert Lee",
            "photoUrl": "https://lh3.googleusercontent.com/a-/AOh14Gg5Bo21GMlIXvvTRzHk7PUzZL8VXUJiObN8raRq=s64",
            "userId": "05735836358878398466"
          }
        },
        "outputId": "59ea673c-eba8-497b-bbab-4ddbbad8e1dd"
      },
      "source": [
        "# (<5 mins)\n",
        "# Setup train/val symlinks for this runtime\n",
        "# puts them in /content/datasets/coco\n",
        "# ensure you have added a Drive shortcut to the dataset in the root of your Drive\n",
        "# this is necessary as the symlinks need a destination that exists\n",
        "# the dataset is hosted here: https://drive.google.com/drive/folders/1EVsLBRwT2njNWOrmBAhDHvvB8qrd9pXT \n",
        "import time\n",
        "from datetime import datetime, timedelta\n",
        "\n",
        "start = time.time()\n",
        "\n",
        "!unzip /content/gdrive/MyDrive/COCO/2017/train2017_symlinks-1000.zip -d -q /content\n",
        "!unzip /content/gdrive/MyDrive/COCO/2017/val2017_symlinks-1000.zip -d -q /content\n",
        "\n",
        "end = time.time()\n",
        "\n",
        "setup_time = end - start\n",
        "\n",
        "print(\"Total setup time: {}\".format(str(timedelta(seconds=setup_time))))"
      ],
      "execution_count": null,
      "outputs": []
    },
    {
      "cell_type": "code",
      "metadata": {
        "colab": {
          "base_uri": "https://localhost:8080/"
        },
        "id": "d514HD0J2xmy",
        "executionInfo": {
          "status": "ok",
          "timestamp": 1615509979883,
          "user_tz": 480,
          "elapsed": 1619,
          "user": {
            "displayName": "Robert Lee",
            "photoUrl": "https://lh3.googleusercontent.com/a-/AOh14Gg5Bo21GMlIXvvTRzHk7PUzZL8VXUJiObN8raRq=s64",
            "userId": "05735836358878398466"
          }
        },
        "outputId": "2a6a0676-17de-44c1-f513-69b66f191cf4"
      },
      "source": [
        "!ls /content/datasets/coco/train2017 | wc -l\n",
        "!ls /content/datasets/coco/val2017 | wc -l"
      ],
      "execution_count": null,
      "outputs": []
    },
    {
      "cell_type": "code",
      "metadata": {
        "id": "SBQbXIcUC4sG",
        "colab": {
          "base_uri": "https://localhost:8080/"
        },
        "executionInfo": {
          "status": "ok",
          "timestamp": 1615512633807,
          "user_tz": 480,
          "elapsed": 2389,
          "user": {
            "displayName": "Robert Lee",
            "photoUrl": "https://lh3.googleusercontent.com/a-/AOh14Gg5Bo21GMlIXvvTRzHk7PUzZL8VXUJiObN8raRq=s64",
            "userId": "05735836358878398466"
          }
        },
        "outputId": "17f9fa33-cd45-4f7c-a328-df6b9ae24f00"
      },
      "source": [
        "# (10-20 mins)\n",
        "# Populate the runtimes filesystem cache with dest directories for fast and predictable load times\n",
        "start = time.time()\n",
        "\n",
        "import os\n",
        "def print_files_in_dir(path):\n",
        "    print(len(os.listdir(path)), \" files at \", path)\n",
        "\n",
        "for i in range(0,6):\n",
        "    print_files_in_dir('/content/gdrive/MyDrive/COCO/2017/val2017_sub-1000/' + str(i))\n",
        "\n",
        "for i in range(0,119):\n",
        "    print_files_in_dir('/content/gdrive/MyDrive/COCO/2017/train2017_sub-1000/' + str(i))\n",
        "  \n",
        "end = time.time()\n",
        "\n",
        "setup_time = end - start\n",
        "\n",
        "print(\"Total setup time: {}\".format(str(timedelta(seconds=setup_time))))"
      ],
      "execution_count": null,
      "outputs": []
    },
    {
      "cell_type": "code",
      "metadata": {
        "id": "Bnb7BL0K5_mR",
        "executionInfo": {
          "status": "ok",
          "timestamp": 1615508570621,
          "user_tz": 480,
          "elapsed": 656,
          "user": {
            "displayName": "Robert Lee",
            "photoUrl": "https://lh3.googleusercontent.com/a-/AOh14Gg5Bo21GMlIXvvTRzHk7PUzZL8VXUJiObN8raRq=s64",
            "userId": "05735836358878398466"
          }
        }
      },
      "source": [
        "# Example Usage of Data Generator\n",
        "from constants import INPUT_DIM\n",
        "from constants import OUTPUT_DIM\n",
        "from data_generator import DataGenerator\n",
        "\n",
        "train_gen = DataGenerator(\"data/one_ann_min10kp_imgs.csv\",\n",
        "                          \"/content/datasets/coco/\",\n",
        "                          INPUT_DIM,\n",
        "                          OUTPUT_DIM,\n",
        "                          num_hg_blocks=8,\n",
        "                          batch_size=1,\n",
        "                          shuffle=True,\n",
        "                          online_fetch=True)\n",
        "# now let's train the model\n",
        "#model.fit(train_gen, epochs=5, ...)"
      ],
      "execution_count": null,
      "outputs": []
    },
    {
      "cell_type": "code",
      "metadata": {
        "colab": {
          "base_uri": "https://localhost:8080/"
        },
        "id": "UeLJoy2iz5sE",
        "executionInfo": {
          "status": "ok",
          "timestamp": 1615508555081,
          "user_tz": 480,
          "elapsed": 5955,
          "user": {
            "displayName": "Robert Lee",
            "photoUrl": "https://lh3.googleusercontent.com/a-/AOh14Gg5Bo21GMlIXvvTRzHk7PUzZL8VXUJiObN8raRq=s64",
            "userId": "05735836358878398466"
          }
        },
        "outputId": "5fb5bd9a-d2f3-4e0a-d5b2-d18acdccd85b"
      },
      "source": [
        "!git submodule update --init --recursive"
      ],
      "execution_count": null,
      "outputs": []
    },
    {
      "cell_type": "code",
      "metadata": {
        "colab": {
          "base_uri": "https://localhost:8080/"
        },
        "id": "shokpdAt0pJh",
        "executionInfo": {
          "status": "ok",
          "timestamp": 1615509197807,
          "user_tz": 480,
          "elapsed": 520,
          "user": {
            "displayName": "Robert Lee",
            "photoUrl": "https://lh3.googleusercontent.com/a-/AOh14Gg5Bo21GMlIXvvTRzHk7PUzZL8VXUJiObN8raRq=s64",
            "userId": "05735836358878398466"
          }
        },
        "outputId": "777e2a13-95e4-440e-a4b6-8131a955b668"
      },
      "source": [
        "!git checkout robert/training-setup\n",
        "\n"
      ],
      "execution_count": null,
      "outputs": []
    },
    {
      "cell_type": "code",
      "metadata": {
        "colab": {
          "base_uri": "https://localhost:8080/"
        },
        "id": "O2MRZcYU2TN2",
        "executionInfo": {
          "status": "ok",
          "timestamp": 1615512475320,
          "user_tz": 480,
          "elapsed": 668715,
          "user": {
            "displayName": "Robert Lee",
            "photoUrl": "https://lh3.googleusercontent.com/a-/AOh14Gg5Bo21GMlIXvvTRzHk7PUzZL8VXUJiObN8raRq=s64",
            "userId": "05735836358878398466"
          }
        },
        "outputId": "1f977904-3e1f-4e7d-c0ac-3d8511514c14"
      },
      "source": [
        "!python3 train.py --epochs 100 --batch 24 --hourglass 1"
      ],
      "execution_count": null,
      "outputs": []
    },
    {
      "cell_type": "code",
      "metadata": {
        "id": "pRBNaRngbZ9-",
        "colab": {
          "base_uri": "https://localhost:8080/",
          "height": 351
        },
        "executionInfo": {
          "status": "error",
          "timestamp": 1615508577885,
          "user_tz": 480,
          "elapsed": 528,
          "user": {
            "displayName": "Robert Lee",
            "photoUrl": "https://lh3.googleusercontent.com/a-/AOh14Gg5Bo21GMlIXvvTRzHk7PUzZL8VXUJiObN8raRq=s64",
            "userId": "05735836358878398466"
          }
        },
        "outputId": "194755c8-112a-493b-e36f-f0d2fedf6418"
      },
      "source": [
        "# Test the generator\n",
        "import time\n",
        "import matplotlib.pyplot as plt\n",
        "import pylab\n",
        "pylab.rcParams['figure.figsize'] = (10.0, 10.0)\n",
        "\n",
        "from HeatMap import HeatMap # https://github.com/LinShanify/HeatMap\n",
        "\n",
        "start = time.time()\n",
        "X_batch, y_batch = train_gen[15]\n",
        "X,y = X_batch[0], y_batch[0] # take first example of batch\n",
        "print(\"Retrieving batch took: \",time.time() - start, \" s\")\n",
        "print(X.shape,y.shape)\n",
        "\n",
        "for i in range(NUM_COCO_KEYPOINTS):\n",
        "  hm = HeatMap(X,y[:,:,i])\n",
        "  hm.plot(transparency=0.5,show_axis=True,show_colorbar=True)"
      ],
      "execution_count": null,
      "outputs": []
    },
    {
      "cell_type": "code",
      "metadata": {
        "id": "I_R4IyNH2Yzr"
      },
      "source": [
        "for i in range(17):\n",
        "  X, y = X_batch[i], y_batch[i]\n",
        "  xs = [v for i,v in enumerate(y) if i%3==0]\n",
        "  ys = [v for i,v in enumerate(y) if i%3==1]\n",
        "  plt.subplot(5,5,i+1)\n",
        "  plt.imshow(X)\n",
        "  plt.scatter(xs,ys)"
      ],
      "execution_count": null,
      "outputs": []
    }
  ]
}